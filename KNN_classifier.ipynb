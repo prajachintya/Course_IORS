{
  "cells": [
    {
      "cell_type": "markdown",
      "metadata": {
        "id": "view-in-github",
        "colab_type": "text"
      },
      "source": [
        "<a href=\"https://colab.research.google.com/github/prajachintya/Course_IORS/blob/main/KNN_classifier.ipynb\" target=\"_parent\"><img src=\"https://colab.research.google.com/assets/colab-badge.svg\" alt=\"Open In Colab\"/></a>"
      ]
    },
    {
      "cell_type": "markdown",
      "metadata": {
        "id": "ijCbnvCfS577"
      },
      "source": [
        "**1) Import libraries**\n"
      ]
    },
    {
      "cell_type": "code",
      "source": [
        "!pip install earthpy"
      ],
      "metadata": {
        "id": "UHgjINPlVamN"
      },
      "execution_count": null,
      "outputs": []
    },
    {
      "cell_type": "code",
      "execution_count": 290,
      "metadata": {
        "id": "J5OBpmB0SzIG"
      },
      "outputs": [],
      "source": [
        "from osgeo import gdal\n",
        "import math\n",
        "import numpy as np\n",
        "import matplotlib.pyplot as plt\n",
        "import matplotlib\n",
        "from matplotlib.colors import ListedColormap\n",
        "from gdalconst import *\n",
        "import pandas as pd\n",
        "from scipy.spatial import distance_matrix\n",
        "import earthpy.plot as ep\n",
        "from sklearn.metrics import confusion_matrix\n",
        "from sklearn.metrics import accuracy_score\n",
        "from sklearn.metrics import precision_score"
      ]
    },
    {
      "cell_type": "markdown",
      "metadata": {
        "id": "o0doRVDqTECU"
      },
      "source": [
        "** italicized text2) Import image**"
      ]
    },
    {
      "cell_type": "code",
      "execution_count": null,
      "metadata": {
        "id": "PVASetNLTMV0"
      },
      "outputs": [],
      "source": [
        "from google.colab import drive\n",
        "drive.mount('/content/drive')"
      ]
    },
    {
      "cell_type": "code",
      "execution_count": null,
      "metadata": {
        "id": "EDi3QRKLTpe_"
      },
      "outputs": [],
      "source": [
        "%cd /content/drive/MyDrive/Colab Notebooks/citra"
      ]
    },
    {
      "cell_type": "code",
      "execution_count": 293,
      "metadata": {
        "id": "fy0VV_HyTvTX"
      },
      "outputs": [],
      "source": [
        "# open dataset\n",
        "filename = \"/content/drive/MyDrive/Colab Notebooks/citra/citra_new.tif\"\n",
        "dataset = gdal.Open(filename, GA_ReadOnly)"
      ]
    },
    {
      "cell_type": "code",
      "execution_count": null,
      "metadata": {
        "id": "HRqZi2cmUBUd"
      },
      "outputs": [],
      "source": [
        "rb = dataset.GetRasterBand(3)\n",
        "img_array = rb.ReadAsArray()\n",
        "plt.imshow(img_array)\n",
        "\n",
        "plt.show()"
      ]
    },
    {
      "cell_type": "code",
      "execution_count": null,
      "metadata": {
        "id": "l3KhFAdiUIvm"
      },
      "outputs": [],
      "source": [
        "img_array.shape"
      ]
    },
    {
      "cell_type": "code",
      "execution_count": 296,
      "metadata": {
        "id": "04gxOOvdUSdu"
      },
      "outputs": [],
      "source": [
        "# retrieve metadata from raster\n",
        "rows = dataset.RasterYSize\n",
        "columns = dataset.RasterXSize\n",
        "N = rows * columns\n",
        "bands = dataset.RasterCount"
      ]
    },
    {
      "cell_type": "code",
      "execution_count": null,
      "metadata": {
        "id": "BmYLd3DHUU4Q"
      },
      "outputs": [],
      "source": [
        "# print basic metadata\n",
        "print (\"image metadata:\") \n",
        "print (rows, \"rows x\", columns, \"columns x\", bands, \"bands\")"
      ]
    },
    {
      "cell_type": "markdown",
      "source": [
        "**3) Retrieve RGB arrays from input image**"
      ],
      "metadata": {
        "id": "3U-MepB7oodp"
      }
    },
    {
      "cell_type": "code",
      "execution_count": 298,
      "metadata": {
        "id": "G9kwFcgxUvc6"
      },
      "outputs": [],
      "source": [
        "array_R = dataset.GetRasterBand(1).ReadAsArray().astype(int)\n",
        "array_G = dataset.GetRasterBand(2).ReadAsArray().astype(int)\n",
        "array_B = dataset.GetRasterBand(3).ReadAsArray().astype(int)\n",
        "array_RGB = np.zeros((rows, columns, 3), dtype=np.uint8)\n",
        "array_RGB[:,:,0] = array_R\n",
        "array_RGB[:,:,1] = array_G\n",
        "array_RGB[:,:,2] = array_B\n",
        "array_RGB_copy = array_RGB.copy()\n",
        "\n",
        "# print(array_RGB_copy)"
      ]
    },
    {
      "cell_type": "code",
      "execution_count": null,
      "metadata": {
        "id": "CW9Ntc0ZU_dl"
      },
      "outputs": [],
      "source": [
        "array_RGB.shape"
      ]
    },
    {
      "cell_type": "code",
      "source": [
        "array_RGB = array_RGB.reshape((449*693, 3))"
      ],
      "metadata": {
        "id": "PJhTx1-n8Nbj"
      },
      "execution_count": 300,
      "outputs": []
    },
    {
      "cell_type": "code",
      "source": [
        "array_RGB"
      ],
      "metadata": {
        "id": "Ov2-o3dW8bwv"
      },
      "execution_count": null,
      "outputs": []
    },
    {
      "cell_type": "markdown",
      "source": [
        "**4) Import samples**\n",
        "\n",
        "four classes, 50 samples data each class\n",
        "*   Vegetation (1)\n",
        "*   Water (2)\n",
        "*   Build area (3)\n",
        "*   Road (4)"
      ],
      "metadata": {
        "id": "zewn2of9XJ1q"
      }
    },
    {
      "cell_type": "code",
      "execution_count": 302,
      "metadata": {
        "id": "cSQmF-nmV8BN"
      },
      "outputs": [],
      "source": [
        "df = pd.read_csv('/content/drive/MyDrive/Colab Notebooks/citra/class_samples.csv').values.tolist()"
      ]
    },
    {
      "cell_type": "code",
      "source": [
        "df"
      ],
      "metadata": {
        "id": "QNUjiLnhVmxq"
      },
      "execution_count": null,
      "outputs": []
    },
    {
      "cell_type": "markdown",
      "source": [
        "**5) Distance matrix calculation**"
      ],
      "metadata": {
        "id": "W_BRC4Mno5hG"
      }
    },
    {
      "cell_type": "code",
      "execution_count": 304,
      "metadata": {
        "id": "GzgS7Rz4azBJ"
      },
      "outputs": [],
      "source": [
        "distance_mat = []\n",
        "\n",
        "for sample in df:\n",
        "  row_sample = sample[1]\n",
        "  column_sample = sample[0]\n",
        "  r_sample = array_RGB_copy[row_sample, column_sample, 0]\n",
        "  g_sample = array_RGB_copy[row_sample, column_sample, 1]\n",
        "  b_sample = array_RGB_copy[row_sample, column_sample, 2]\n",
        "  rgb = np.array([r_sample, g_sample, b_sample]).flatten().reshape(1,3)\n",
        "  distance_mat.append(distance_matrix(array_RGB, rgb))\n",
        "\n",
        "  "
      ]
    },
    {
      "cell_type": "code",
      "execution_count": 305,
      "metadata": {
        "colab": {
          "base_uri": "https://localhost:8080/"
        },
        "id": "g0q7eQ8GdfFx",
        "outputId": "522edbbf-3193-4bfe-aacd-f65ea99b2422"
      },
      "outputs": [
        {
          "output_type": "execute_result",
          "data": {
            "text/plain": [
              "(200, 311157, 1)"
            ]
          },
          "metadata": {},
          "execution_count": 305
        }
      ],
      "source": [
        "np.asarray(distance_mat).shape"
      ]
    },
    {
      "cell_type": "code",
      "execution_count": 306,
      "metadata": {
        "id": "sOBdmfnd0eFP"
      },
      "outputs": [],
      "source": [
        "distance_matrix = np.asarray(distance_mat)"
      ]
    },
    {
      "cell_type": "code",
      "execution_count": 307,
      "metadata": {
        "id": "SQDSRpLJ2tNE"
      },
      "outputs": [],
      "source": [
        "distance_matrix = np.reshape(distance_matrix, (distance_matrix.shape[0], distance_matrix.shape[1]), order=\"C\")"
      ]
    },
    {
      "cell_type": "code",
      "execution_count": null,
      "metadata": {
        "id": "3VT5S49S0Dm7"
      },
      "outputs": [],
      "source": [
        "distance_matrix.T"
      ]
    },
    {
      "cell_type": "code",
      "execution_count": null,
      "metadata": {
        "id": "n4PCalRD3rhx"
      },
      "outputs": [],
      "source": [
        "distance_matrix.shape"
      ]
    },
    {
      "cell_type": "code",
      "source": [
        "distance_matrix=distance_matrix.T"
      ],
      "metadata": {
        "id": "0gDc8L70WrwW"
      },
      "execution_count": 310,
      "outputs": []
    },
    {
      "cell_type": "code",
      "source": [
        "distance_matrix.shape"
      ],
      "metadata": {
        "id": "v3AWve2VW38A"
      },
      "execution_count": null,
      "outputs": []
    },
    {
      "cell_type": "markdown",
      "source": [
        "**6) Sorting distances**"
      ],
      "metadata": {
        "id": "FjRQf342pJvB"
      }
    },
    {
      "cell_type": "code",
      "execution_count": 312,
      "metadata": {
        "id": "wzDfWO9n3xeM"
      },
      "outputs": [],
      "source": [
        "k = 10\n",
        "sortedDist = np.argsort(distance_matrix)\n",
        "\n",
        "tensmallest= sortedDist [:,:k]"
      ]
    },
    {
      "cell_type": "code",
      "source": [
        "np.where(sortedDist < 50)"
      ],
      "metadata": {
        "id": "3BzXaeUamjJP"
      },
      "execution_count": null,
      "outputs": []
    },
    {
      "cell_type": "code",
      "source": [
        "sortedDist[20000]"
      ],
      "metadata": {
        "id": "1MXIMvIHWSKf"
      },
      "execution_count": null,
      "outputs": []
    },
    {
      "cell_type": "code",
      "source": [
        "tensmallest.shape"
      ],
      "metadata": {
        "id": "MTJAOReofRPr"
      },
      "execution_count": null,
      "outputs": []
    },
    {
      "cell_type": "markdown",
      "source": [
        "**7) Reclassify based on class label**"
      ],
      "metadata": {
        "id": "Yr5UNbBZVGNF"
      }
    },
    {
      "cell_type": "code",
      "source": [
        "class_matrix = np.empty(shape=(311157,10))\n",
        "\n",
        "for i in range(len(tensmallest)):\n",
        "  for k in range(len(tensmallest[i])):\n",
        "    if tensmallest[i][k] < 51:\n",
        "      class_matrix[i][k] = 1\n",
        "    if tensmallest[i][k] > 50 and tensmallest[i][k] < 101 :\n",
        "      class_matrix[i][k] = 2\n",
        "    if tensmallest[i][k] > 100 and tensmallest[i][k] < 151 :\n",
        "      class_matrix[i][k] = 3\n",
        "    if tensmallest[i][k] > 150 and tensmallest[i][k] < 201 :\n",
        "      class_matrix[i][k] = 4"
      ],
      "metadata": {
        "id": "ttG-dO0pioSC"
      },
      "execution_count": 316,
      "outputs": []
    },
    {
      "cell_type": "code",
      "source": [
        "class_matrix = class_matrix.astype(int)\n",
        "class_matrix"
      ],
      "metadata": {
        "id": "7x_dj_kJlGY3"
      },
      "execution_count": null,
      "outputs": []
    },
    {
      "cell_type": "code",
      "source": [
        "class_matrix.shape"
      ],
      "metadata": {
        "id": "wQJe2byn_spV"
      },
      "execution_count": null,
      "outputs": []
    },
    {
      "cell_type": "markdown",
      "source": [
        "**8) Count the most frequent class**"
      ],
      "metadata": {
        "id": "dGqUFmsqpmSV"
      }
    },
    {
      "cell_type": "code",
      "source": [
        "b = ([[np.bincount(row).argmax()] for row in class_matrix])\n",
        "\n",
        "print(b)"
      ],
      "metadata": {
        "id": "MoWNvhlQSPGo"
      },
      "execution_count": null,
      "outputs": []
    },
    {
      "cell_type": "code",
      "source": [
        "classification_array = np.asarray(b)"
      ],
      "metadata": {
        "id": "JWxUHvrKCrDm"
      },
      "execution_count": 320,
      "outputs": []
    },
    {
      "cell_type": "code",
      "source": [
        "classification_array"
      ],
      "metadata": {
        "id": "NWracjESEaCv"
      },
      "execution_count": null,
      "outputs": []
    },
    {
      "cell_type": "code",
      "source": [
        "image_classification = np.reshape(classification_array, (rows, columns))"
      ],
      "metadata": {
        "id": "rPm_0lb4FPyC"
      },
      "execution_count": 322,
      "outputs": []
    },
    {
      "cell_type": "code",
      "source": [
        "image_classification.shape\n"
      ],
      "metadata": {
        "id": "srGxKLCJGXvJ"
      },
      "execution_count": null,
      "outputs": []
    },
    {
      "cell_type": "markdown",
      "source": [
        "**9) Plot Classification Result**"
      ],
      "metadata": {
        "id": "xjtBCoFqpufy"
      }
    },
    {
      "cell_type": "code",
      "source": [
        "# Define color map\n",
        "lu_colors = [\"darkgreen\", \"blue\", \"brown\", \"gray\"]\n",
        "lu_cmap = ListedColormap(lu_colors)\n",
        "\n",
        "# Define class names\n",
        "lu_cat_names = [\n",
        "    \"Vegetation\",\n",
        "    \"Water\",\n",
        "    \"Build area\",\n",
        "    \"Road\",   \n",
        "]\n",
        "\n",
        "# Get list of classes\n",
        "classes = np.unique(image_classification)\n",
        "classes = classes.tolist()\n",
        "classes = classes[0:4]\n",
        "\n",
        "# Plot your data\n",
        "fig, ax = plt.subplots(figsize=(12, 12))\n",
        "im = ax.imshow(image_classification, cmap=lu_cmap)\n",
        "\n",
        "# ep.draw_legend\n",
        "ep.draw_legend(im_ax=im, classes=classes, titles=lu_cat_names)\n",
        "ax.set_title(\n",
        "    \"Land Cover Classificiation using KNN\",\n",
        "    fontsize=14,\n",
        ")\n",
        "ax.set_axis_off()\n",
        "\n",
        "# Auto adjust subplot to fit figure size\n",
        "plt.tight_layout()"
      ],
      "metadata": {
        "id": "NoiTknQChOMu"
      },
      "execution_count": null,
      "outputs": []
    },
    {
      "cell_type": "markdown",
      "source": [
        "**10) Evaluation : Calculate confusion matrix**"
      ],
      "metadata": {
        "id": "a7xVht62G7uk"
      }
    },
    {
      "cell_type": "code",
      "source": [
        "test = pd.read_csv('/content/drive/MyDrive/Colab Notebooks/citra/test1.csv').values.tolist()"
      ],
      "metadata": {
        "id": "gEoHB0A2iDui"
      },
      "execution_count": 325,
      "outputs": []
    },
    {
      "cell_type": "code",
      "source": [
        "tests = np.asarray(test)"
      ],
      "metadata": {
        "id": "29wZDkQhwnaI"
      },
      "execution_count": 326,
      "outputs": []
    },
    {
      "cell_type": "code",
      "source": [
        "predict = []\n",
        "for test in tests:\n",
        "    row_sample = test[0]\n",
        "    column_sample = test[1]\n",
        "    #check.append([column_sample,row_sample,axx[row_sample, column_sample]])\n",
        "    predict.append(image_classification[row_sample, column_sample])"
      ],
      "metadata": {
        "id": "zU0JzH-w6h1N"
      },
      "execution_count": 327,
      "outputs": []
    },
    {
      "cell_type": "code",
      "source": [
        "predict= np.asarray(predict)"
      ],
      "metadata": {
        "id": "vxCCeZTR6y0G"
      },
      "execution_count": 328,
      "outputs": []
    },
    {
      "cell_type": "code",
      "source": [
        "test_label = []\n",
        "\n",
        "for i in range (len(tests)):\n",
        "  test_label.append(tests[i][2])"
      ],
      "metadata": {
        "id": "8vztZWMw67BA"
      },
      "execution_count": 329,
      "outputs": []
    },
    {
      "cell_type": "code",
      "source": [
        "#confussion matrix\n",
        "cf_matrix = confusion_matrix(predict, test_label)"
      ],
      "metadata": {
        "id": "hC4br30-710m"
      },
      "execution_count": 330,
      "outputs": []
    },
    {
      "cell_type": "code",
      "source": [
        "import seaborn as sn\n",
        "\n",
        "array = cf_matrix\n",
        "\n",
        "df_cm = pd.DataFrame(array, index = [i for i in \"1234\"],\n",
        "                  columns = [i for i in \"1234\"])\n",
        "# plt.figure(figsize=(10,7))\n",
        "sn.set(font_scale=1.4) # for label size\n",
        "sn.heatmap(df_cm, annot=True, annot_kws={\"size\": 16}) # font size\n",
        "\n",
        "plt.show()"
      ],
      "metadata": {
        "id": "CO_1c_dSKgL1"
      },
      "execution_count": null,
      "outputs": []
    },
    {
      "cell_type": "code",
      "source": [
        "#accuracy\n",
        "accuracy_score(predict, test_label)"
      ],
      "metadata": {
        "id": "xrVwFILmADVL"
      },
      "execution_count": null,
      "outputs": []
    },
    {
      "cell_type": "code",
      "source": [
        "#precision\n",
        "precision_score(predict, test_label, average=None)"
      ],
      "metadata": {
        "id": "NLP0VrJOU9E4"
      },
      "execution_count": null,
      "outputs": []
    }
  ],
  "metadata": {
    "colab": {
      "provenance": [],
      "include_colab_link": true
    },
    "kernelspec": {
      "display_name": "Python 3",
      "name": "python3"
    },
    "language_info": {
      "name": "python"
    }
  },
  "nbformat": 4,
  "nbformat_minor": 0
}